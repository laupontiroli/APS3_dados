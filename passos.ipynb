{
 "cells": [
  {
   "cell_type": "code",
   "execution_count": 7,
   "metadata": {},
   "outputs": [],
   "source": [
    "#scolha pelo menos 20 ações candidatas da bolsa brasileira (B3). Para isso, use o critério que preferir.\n",
    "\n",
    "#escolhi ações que estavam subindo sua cotação na b3 e de diferentes setores \\\n",
    "\n",
    "acoes =['MLAS3.SA','VALE3.SA','ABEV3.SA','AZUL4.SA','GOLL4.SA','PETR4.SA','AERI3.SA','BBDC4.SA','ITSA4.SA','PSSA3.SA','CXSE3.SA','OIBR4.SA','DESK3.SA','CBAV3.SA','PGMN3.SA','VVEO3.SA','RADL3.SA','SAPR11.SA','CBAV3.SA','CLSC4.SA']\n"
   ]
  },
  {
   "cell_type": "code",
   "execution_count": 12,
   "metadata": {},
   "outputs": [],
   "source": [
    "# criando portifólio \n",
    "import pandas as pd \n",
    "import yfinance as yf \n",
    "\n",
    "#pegando a primeira acao escolhida CLSC4\n",
    "ticker=yf.Ticker(acoes[19])\n",
    "data1= ticker.history(period='18mo')\n",
    "\n",
    "#colocando investimento inicial e adicionando uma coluna com o valor \n",
    "investimento_inicial = 1000 # reais\n",
    "n_acoes1 = investimento_inicial / data1.iloc[0]['Close']\n",
    "data1['Valor investido'] = n_acoes1 * data1['Close']\n",
    "\n",
    "#colocando esse valor no meu portifólio\n",
    "datap = pd.DataFrame()\n",
    "datap['Valor investido'] = data1['Valor investido'] \n"
   ]
  },
  {
   "cell_type": "code",
   "execution_count": 14,
   "metadata": {},
   "outputs": [
    {
     "name": "stdout",
     "output_type": "stream",
     "text": [
      "9.918825282980569\n"
     ]
    }
   ],
   "source": [
    "\n",
    "\n",
    "#calculando o retorno do portifólio\n",
    "ret_totalp = (datap.iloc[-1]['Valor investido']/datap.iloc[0]['Valor investido'] - 1)\n",
    "\n",
    "#calculando o desvio padrão do portifólio pelo desvio do retorno diario\n",
    "retp = datap['Valor investido'].pct_change()\n",
    "sigmap= retp.std()\n",
    "\n",
    "#calculando sharpee do portifolio\n",
    "sharpep = ret_totalp/sigmap\n",
    "\n",
    "print(sharpep)\n"
   ]
  }
 ],
 "metadata": {
  "kernelspec": {
   "display_name": ".venv",
   "language": "python",
   "name": "python3"
  },
  "language_info": {
   "codemirror_mode": {
    "name": "ipython",
    "version": 3
   },
   "file_extension": ".py",
   "mimetype": "text/x-python",
   "name": "python",
   "nbconvert_exporter": "python",
   "pygments_lexer": "ipython3",
   "version": "3.11.4"
  },
  "orig_nbformat": 4
 },
 "nbformat": 4,
 "nbformat_minor": 2
}
